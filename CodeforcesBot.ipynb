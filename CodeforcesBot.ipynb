{
  "nbformat": 4,
  "nbformat_minor": 0,
  "metadata": {
    "colab": {
      "name": "CodeforcesBot.ipynb",
      "provenance": [],
      "authorship_tag": "ABX9TyM5cSQPzdx1h+fK9uRFtUBz",
      "include_colab_link": true
    },
    "kernelspec": {
      "name": "python3",
      "display_name": "Python 3"
    }
  },
  "cells": [
    {
      "cell_type": "markdown",
      "metadata": {
        "id": "view-in-github",
        "colab_type": "text"
      },
      "source": [
        "<a href=\"https://colab.research.google.com/github/surya0702/CodeForcesBot/blob/main/CodeforcesBot.ipynb\" target=\"_parent\"><img src=\"https://colab.research.google.com/assets/colab-badge.svg\" alt=\"Open In Colab\"/></a>"
      ]
    },
    {
      "cell_type": "code",
      "metadata": {
        "id": "zNt6bTi1JfeS"
      },
      "source": [
        "import random\n",
        "\n",
        "def greet_introduce():\n",
        "    # A list of Greeting messages\n",
        "    l=[\n",
        "        \"Hi!,I'm Codeforce Bot! I can help You to get the simple programs depend upon your Requirement\",\n",
        "        \"Hello!, Hope you are doing great,I'm Codeforce Bot! I can help You to get the simple programs depend upon your Requirement\",\n",
        "        \"Great!,I'm Codeforce Bot! I can help You to get the simple programs depend upon your Requirement?\"\n",
        "    ]\n",
        "    print(\"\\n\",random.choice(l)) # Prints a Random a Greeting message"
      ],
      "execution_count": null,
      "outputs": []
    },
    {
      "cell_type": "code",
      "metadata": {
        "id": "gZzsInXwJ0Fr"
      },
      "source": [
        "from datetime import datetime\n",
        "#import pyttsx3\n",
        "hour = datetime.now() # Current hour in 24 hr format\n",
        "grt=\"\"\n",
        "def welcome(): # welcome function which greets the user based on the current time.\n",
        "    name=input(\"May i know your good name please? \")\n",
        "    h = hour.hour\n",
        "    if h<12:\n",
        "        grt=\"Good Morning!\" # If the current time is less than 12pm\n",
        "    elif h>=12 and h<17:\n",
        "        grt=\"Good Afternoon!\" # If the current time is less than 5pm\n",
        "    else:\n",
        "        grt=\"Good Evening!\" \n",
        "    #voice_msg(grt+name) # Passing the Greeting and name of the user to convert it into Voice message\n",
        "    print(\"\\n I am your codeforces chatbot I hope you are coding regularly \\n I can help you in providing the programms in the area which you want to master it\")\n",
        "\n",
        "def voice_msg(var): # Converts the given text into Voice message\n",
        "    speak = pyttsx3.init() # Initalizes the pyttsx3 package\n",
        "    voices = speak.getProperty('voices')\n",
        "    speak.setProperty('rate',170) # Making the speech rate less for more audibulity\n",
        "    speak.setProperty('voice', voices[1].id) # Selecting a voice type \n",
        "    speak.say(var) # Converts text in the variable var into Voice Message\n",
        "    speak.runAndWait()\n"
      ],
      "execution_count": null,
      "outputs": []
    },
    {
      "cell_type": "code",
      "metadata": {
        "id": "8ODz4rcIJ2mo"
      },
      "source": [
        "import requests\n",
        "\n",
        "def prob_name(k):\n",
        "    \"\"\"\n",
        "    Seraching  the programs based on tags given by the User\n",
        "    \"\"\"\n",
        "\n",
        "    tag = input(\"Please enter the tag : \") # Asks the User for entering the Tag\n",
        "    tag.strip() # Removing extra spaces from front and end of the given tag\n",
        "    tag.replace(\" \",\"%20\") # Replacing the spaces inbetween the tag \n",
        "    link= \"https://codeforces.com/api/problemset.problems?tags=\"+tag # for finding problems based on given tags\n",
        "    page = requests.get(link) # Passing the tag to Requests package\n",
        "    try:\n",
        "        for i in range(k,k+11):\n",
        "            print(\"\\n\",f\"{page.json()['result']['problems'][i]['name']}\") # Prints the Problem name\n",
        "\n",
        "            prob_contestId = page.json()['result']['problems'][i]['contestId'] # Problem contest Id \n",
        "            prob_index = page.json()['result']['problems'][i]['index'] # Problem index in the respective contest\n",
        "\n",
        "            print(\"Link : \",f\"https://codeforces.com/problemset/problem/{prob_contestId}/{prob_index}\") # Link for the respective Problem\n",
        "\n",
        "    except:\n",
        "        print(\"PLEASE ENTER THE TAGS WHICH ARE AVAILABLE\") # If any Errors arises\n"
      ],
      "execution_count": null,
      "outputs": []
    },
    {
      "cell_type": "code",
      "metadata": {
        "id": "IJ_U8aiKJ6JM"
      },
      "source": [
        "def menu():\n",
        "    \"\"\"\n",
        "     Available options in the Bot\n",
        "    \"\"\"\n",
        "    print()\n",
        "    print(\"This BOT can do the following tasks:\")\n",
        "    print(\"1 . Available Tags\")\n",
        "    print(\"2 . Get programs based on Tags\")\n",
        "    print(\"3 . End this chat\")\n",
        "    print(\"------------------------------------\")\n",
        "\n",
        "    try:\n",
        "        return int(input(\"Enter you choice [1-3] : \")) # Asks the User for choose the options\n",
        "    except:\n",
        "        print(\"PLEASE ENTER THE CHOICE IN THE GIVEN RANGE\") # Throws an error if the input is not in the given range"
      ],
      "execution_count": null,
      "outputs": []
    },
    {
      "cell_type": "code",
      "metadata": {
        "id": "hnXFxy7vJ8tK",
        "outputId": "5cca31fe-2bb2-4ec9-bff4-4fb32096a5ba",
        "colab": {
          "base_uri": "https://localhost:8080/",
          "height": 1000
        }
      },
      "source": [
        "\"\"\"\n",
        "This is a console bot program.\n",
        "1. Starts with a greeting and ask the name of person.\n",
        "2. Greets and welcomes the person.\n",
        "3. Asks the user to give Tags based on which it returns the  programs\n",
        "4. Responds to user input appropriately and gives the available programs.\n",
        "\"\"\"\n",
        "\n",
        "import random \n",
        "'''\n",
        "from datetime import datetime\n",
        "from Greeting import welcome\n",
        "from ProgramBot import prob_name\n",
        "from Intro import greet_introduce\n",
        "from Menu import menu\n",
        "'''\n",
        "\n",
        "greet_introduce() # Greeting Function\n",
        "welcome() # Welcomes the User \n",
        "# Available Tags\n",
        "available_tags = [\"binary search\" , \"brute force\" , \"constructive algorithms\" , \"data structures\"\n",
        "         , \"dfs and similar\" , \"divide and conquer\" , \"dp\" , \"geometry\" , \"graphs\" , \"hashing\"]\n",
        "x = menu() # Calling the menu() function\n",
        "\n",
        "while(x!=3): # Base Condition for while loop\n",
        "    if(x==2):\n",
        "        prob_name(random.randint(1,100)) # Selecting 10 problems in a sequence by a random number in between 1 and 100\n",
        "    elif(x==1):\n",
        "        print(\"AVAILABLE TAGS :-        \",\"    ,   \".join(available_tags)) # Printing the Available Tags\n",
        "    print()\n",
        "    x=menu() # Recursively Asking for the user input until he/she wants to end the Bot.\n",
        "\n",
        "print(\"--------THANK YOU! FOR USING THIS BOT---------\") # Thanking message"
      ],
      "execution_count": null,
      "outputs": [
        {
          "output_type": "stream",
          "text": [
            "\n",
            " Hi!,I'm Codeforce Bot! I can help You to get the simple programs depend upon your Requirement\n",
            "May i know your good name please? David\n",
            "\n",
            " I am your codeforces chatbot I hope you are coding regularly \n",
            " I can help you in providing the programms in the area which you want to master it\n",
            "\n",
            "This BOT can do the following tasks:\n",
            "1 . Available Tags\n",
            "2 . Get programs based on Tags\n",
            "3 . End this chat\n",
            "------------------------------------\n",
            "Enter you choice [1-3] : 1\n",
            "AVAILABLE TAGS :-         binary search    ,   brute force    ,   constructive algorithms    ,   data structures    ,   dfs and similar    ,   divide and conquer    ,   dp    ,   geometry    ,   graphs    ,   hashing\n",
            "\n",
            "\n",
            "This BOT can do the following tasks:\n",
            "1 . Available Tags\n",
            "2 . Get programs based on Tags\n",
            "3 . End this chat\n",
            "------------------------------------\n",
            "Enter you choice [1-3] : abc\n",
            "PLEASE ENTER THE CHOICE IN THE GIVEN RANGE\n",
            "\n",
            "\n",
            "This BOT can do the following tasks:\n",
            "1 . Available Tags\n",
            "2 . Get programs based on Tags\n",
            "3 . End this chat\n",
            "------------------------------------\n",
            "Enter you choice [1-3] : 2\n",
            "Please enter the tag : dp\n",
            "\n",
            " x-prime Substrings\n",
            "Link :  https://codeforces.com/problemset/problem/1400/F\n",
            "\n",
            " Clear the Multiset\n",
            "Link :  https://codeforces.com/problemset/problem/1400/E\n",
            "\n",
            " Maximum Distributed Tree\n",
            "Link :  https://codeforces.com/problemset/problem/1401/D\n",
            "\n",
            " ZS Shuffles Cards\n",
            "Link :  https://codeforces.com/problemset/problem/1392/H\n",
            "\n",
            " Omkar and Pies\n",
            "Link :  https://codeforces.com/problemset/problem/1392/G\n",
            "\n",
            " Omkar and Bed Wars\n",
            "Link :  https://codeforces.com/problemset/problem/1392/D\n",
            "\n",
            " Controversial Rounds\n",
            "Link :  https://codeforces.com/problemset/problem/1398/F\n",
            "\n",
            " Colored Rectangles\n",
            "Link :  https://codeforces.com/problemset/problem/1398/D\n",
            "\n",
            " Good Subarrays\n",
            "Link :  https://codeforces.com/problemset/problem/1398/C\n",
            "\n",
            " Boboniu and Bit Operations\n",
            "Link :  https://codeforces.com/problemset/problem/1395/C\n",
            "\n",
            " Boboniu and Jianghu\n",
            "Link :  https://codeforces.com/problemset/problem/1394/D\n",
            "\n",
            "\n",
            "This BOT can do the following tasks:\n",
            "1 . Available Tags\n",
            "2 . Get programs based on Tags\n",
            "3 . End this chat\n",
            "------------------------------------\n",
            "Enter you choice [1-3] : 3\n",
            "--------THANK YOU! FOR USING THIS BOT---------\n"
          ],
          "name": "stdout"
        }
      ]
    }
  ]
}