{
  "nbformat": 4,
  "nbformat_minor": 0,
  "metadata": {
    "colab": {
      "name": "Untitled0.ipynb",
      "provenance": [],
      "authorship_tag": "ABX9TyOFHzfI1OEW/AP2IGqvwOxM",
      "include_colab_link": true
    },
    "kernelspec": {
      "name": "python3",
      "display_name": "Python 3"
    }
  },
  "cells": [
    {
      "cell_type": "markdown",
      "metadata": {
        "id": "view-in-github",
        "colab_type": "text"
      },
      "source": [
        "<a href=\"https://colab.research.google.com/github/surya0702/CodeForcesBot/blob/main/CodeforcesBot.ipynb\" target=\"_parent\"><img src=\"https://colab.research.google.com/assets/colab-badge.svg\" alt=\"Open In Colab\"/></a>"
      ]
    },
    {
      "cell_type": "code",
      "metadata": {
        "id": "81pdDjpd3BBC"
      },
      "source": [
        "def hod():\n",
        "    print(\"With which department head do you want to set a meet?\")\n",
        "    print(\"1.'James' from Computer Science\")\n",
        "    print(\"2.'Nick' from Electrical\")\n",
        "    print(\"3.'Tom' from Mechanical\")\n",
        "    print(\"enter your choice: \")\n",
        "    choice1=int(input())\n",
        "    if choice1==1:\n",
        "        c1=input(\"Enter month: \")\n",
        "        a1=int(input(\"Enter date: \"))\n",
        "        b1=int(input(\"Enter time: \"))\n",
        "        if(b1>24):\n",
        "            print(\"Enter valid time 00-24\")\n",
        "            return 0\n",
        "        print(\"Your meeting is scheduled with James on \"+str(a1)+\"th of \"+c1+\" at \"+str(b1)+\"hrs IST.\")\n",
        "    elif choice1==2:\n",
        "        c1=input(\"Enter month: \")\n",
        "        a1=int(input(\"Enter date: \"))\n",
        "        b1=int(input(\"Enter time: \"))\n",
        "        if(b1>24):\n",
        "            print(\"Enter valid time 00-24\")\n",
        "            return 0\n",
        "        print(\"Your meeting is scheduled with Nick on \"+str(a1)+\"th of \"+c1+\" at \"+str(b1)+\".\")\n",
        "    elif choice1==3:\n",
        "        c1=input(\"Enter month: \")\n",
        "        a1=int(input(\"Enter date: \"))\n",
        "        b1=int(input(\"Enter time: \"))\n",
        "        if(b1>24):\n",
        "            print(\"Enter valid time 00-24\")\n",
        "            return 0\n",
        "        print(\"Your meeting is scheduled with Tom on \"+str(a1)+\"th of \"+c1+\" at \"+str(b1)+\".\")\n",
        "    else:\n",
        "        print(\"Enter input between 1-3 :(\")\n",
        "        return 0"
      ],
      "execution_count": 1,
      "outputs": []
    },
    {
      "cell_type": "code",
      "metadata": {
        "id": "BAjwuqQi3NNa"
      },
      "source": [
        "def sl():\n",
        "    print(\"With which department Senior Lecturer do you want to set a meet?\")\n",
        "    print(\"1.'Robert' from Computer Science\")\n",
        "    print(\"2.'Justin' from Electrical\")\n",
        "    print(\"3.'Chris' from Mechanical\")\n",
        "    choice2=int(input(\"enter your choice: \"))\n",
        "    if choice2==1:\n",
        "        c2=input(\"Enter month: \")\n",
        "        a2=int(input(\"Enter date: \"))\n",
        "        b2=int(input(\"Enter time: \"))\n",
        "        if(b2>24):\n",
        "            print(\"Enter valid time 00-24\")\n",
        "            return 0\n",
        "        print(\"Your meeting is scheduled with Robert on \"+str(a2)+\"th of \"+c2+\" at \"+str(b2)+\".\")\n",
        "    elif choice2==2:\n",
        "        c2=input(\"Enter month: \")\n",
        "        a2=int(input(\"Enter date: \"))\n",
        "        b2=int(input(\"Enter time: \"))\n",
        "        if(b2>24):\n",
        "            print(\"Enter valid time 00-24\")\n",
        "            return 0\n",
        "        print(\"Your meeting is scheduled with Justin on \"+str(a2)+\"th of \"+c2+\" at \"+str(b2)+\".\")\n",
        "    elif choice2==3:\n",
        "        c2=input(\"Enter month: \")\n",
        "        a2=int(input(\"Enter date: \"))\n",
        "        b2=int(input(\"Enter time: \"))\n",
        "        if(b2>24):\n",
        "            print(\"Enter valid time 00-24\")\n",
        "            return 0\n",
        "        print(\"Your meeting is scheduled with Chris on \"+str(a2)+\"th of \"+c2+\" at \"+str(b2)+\".\")\n",
        "    else:\n",
        "        print(\"Enter choice between 1-3 :(\")\n",
        "        return 0\n",
        "   "
      ],
      "execution_count": 2,
      "outputs": []
    },
    {
      "cell_type": "code",
      "metadata": {
        "id": "ChVK07nP3PVr"
      },
      "source": [
        "def jl():\n",
        "    c3=input(\"Enter month: \")\n",
        "    a3=int(input(\"Enter date: \"))\n",
        "    b3=int(input(\"Enter time: \"))\n",
        "    if(b3>24):\n",
        "        print(\"Enter valid time 00-24\")\n",
        "        return 0\n",
        "    print(\"With which department Junior Lecturer do you want to set a meet?\")\n",
        "    print(\"1.'Gates' from Computer Science\")\n",
        "    print(\"2.'Elon' from Electrical\")\n",
        "    print(\"3.'Zayn' from Mechanical\")\n",
        "    opt=int(input(\"enter your choice: \"))\n",
        "    if opt==1:\n",
        "        print(\"Your meeting is scheduled with Gates on \"+str(a3)+\"th of \"+c3+\" at \"+str(b3)+\".\")\n",
        "    elif opt==2:\n",
        "        print(\"Your meeting is scheduled with Elon on \"+str(a3)+\"th of \"+c+\" at \"+str(b)+\".\")\n",
        "    elif opt==3:\n",
        "        print(\"Your meeting is scheduled with Zayn on \"+str(a3)+\"th of \"+c3+\" at \"+str(b3)+\".\")\n",
        "    else:\n",
        "        print(\"Enter choice between 1-3 :(\")\n",
        "        return 0"
      ],
      "execution_count": 3,
      "outputs": []
    },
    {
      "cell_type": "code",
      "metadata": {
        "id": "K9-Oib3A3S_Y"
      },
      "source": [
        "def bot():\n",
        "    print(\"Hello  sir, with whom do you want to set a one on one meet?\")\n",
        "    print(\"1.Heads of respective departments\")\n",
        "    print(\"2.Senior Lecturers\")\n",
        "    print(\"3.Junior Lecturers\")\n",
        "    choice=int(input(\"Enter your choice: \"))\n",
        "    if choice==1:\n",
        "        hod()\n",
        "    elif choice==2:\n",
        "        sl()\n",
        "    elif choice==3:\n",
        "        jl()\n",
        "    else:\n",
        "        print(\"Please select between 1-3 :(\")"
      ],
      "execution_count": 5,
      "outputs": []
    },
    {
      "cell_type": "code",
      "metadata": {
        "id": "anflj5M03bEI",
        "outputId": "cf7796e4-6c98-4ca3-d20a-9ed827c9f161",
        "colab": {
          "base_uri": "https://localhost:8080/",
          "height": 121
        }
      },
      "source": [
        "bot()"
      ],
      "execution_count": 9,
      "outputs": [
        {
          "output_type": "stream",
          "text": [
            "Hello Abhinav sir, with whom do you want to set a one on one meet?\n",
            "1.Heads of respective departments\n",
            "2.Senior Lecturers\n",
            "3.Junior Lecturers\n",
            "Enter your choice: 4\n",
            "Please select between 1-3 :(\n"
          ],
          "name": "stdout"
        }
      ]
    }
  ]
}